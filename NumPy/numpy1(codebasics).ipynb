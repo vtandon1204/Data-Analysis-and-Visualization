{
 "cells": [
  {
   "cell_type": "markdown",
   "metadata": {},
   "source": [
    "### **NumPy Introduction || NumPy Arrays & Python Lists**"
   ]
  },
  {
   "cell_type": "markdown",
   "metadata": {},
   "source": [
    "Numpy provides\n",
    "\n",
    "1. An array object of arbitrary homogeneous items\n",
    "2. Fast mathematical operations over arrays\n",
    "3. Linear Algebra, Fourier Transforms, Random Number Generation"
   ]
  },
  {
   "cell_type": "code",
   "execution_count": 1,
   "metadata": {},
   "outputs": [
    {
     "data": {
      "text/plain": [
       "array([1, 2, 3])"
      ]
     },
     "execution_count": 1,
     "metadata": {},
     "output_type": "execute_result"
    }
   ],
   "source": [
    "import numpy as np\n",
    "arr=np.array([1,2,3])\n",
    "arr"
   ]
  },
  {
   "cell_type": "markdown",
   "metadata": {},
   "source": [
    "NumpPy is similar as Lists in python module.\n",
    "But, it (numpy) requires less memory, it's fast and convinient."
   ]
  },
  {
   "cell_type": "code",
   "execution_count": 2,
   "metadata": {},
   "outputs": [
    {
     "name": "stdout",
     "output_type": "stream",
     "text": [
      "1\n",
      "2\n"
     ]
    }
   ],
   "source": [
    "print(arr[0])\n",
    "print(arr[1])"
   ]
  },
  {
   "cell_type": "code",
   "execution_count": 3,
   "metadata": {},
   "outputs": [
    {
     "name": "stdout",
     "output_type": "stream",
     "text": [
      "28000\n",
      "8000\n"
     ]
    }
   ],
   "source": [
    "import numpy as np\n",
    "import time\n",
    "import sys\n",
    "\n",
    "# To prove that Numpy arrays take less memory than Python lists\n",
    "\n",
    "l = range(1000) # list of 1000 elements\n",
    "print(len(l)*sys.getsizeof(5))\n",
    "# len(l) is the size of list\n",
    "# sys.getsizeof(n) is size of 1 element of list\n",
    "\n",
    "array = np.arange(1000) # 'arange' function is similar to range which creates an array with elements from 0 to n-1.\n",
    "print(array.size*array.itemsize)\n",
    "# array.size is the size of array\n",
    "# array.itemsize is the size of 1 element of array"
   ]
  },
  {
   "cell_type": "markdown",
   "metadata": {},
   "source": [
    "Here, python list taking 28000 bytes whereas numpy array is taking only 8000 bytes of memory. this is because, size of 1 python object is 28 bytes and that of numpy object is only 8 bytes. NumPy array has contiguous memory locations whereas Python list has list of pointers pointing to another location of objects."
   ]
  },
  {
   "cell_type": "code",
   "execution_count": 4,
   "metadata": {},
   "outputs": [
    {
     "name": "stdout",
     "output_type": "stream",
     "text": [
      "Python list took: 106.69279098510742 ms\n",
      "NumPy array took: 14.099597930908203 ms\n"
     ]
    }
   ],
   "source": [
    "# To prove that Numpy arrays are faster and convinient than Python lists\n",
    "\n",
    "size = 1000000\n",
    "\n",
    "l1 = range(size)\n",
    "l2 = range(size)\n",
    "\n",
    "a1 = np.arange(size)\n",
    "a2 = np.arange(size)\n",
    "\n",
    "# python list\n",
    "start = time.time()\n",
    "result = [(x+y) for x,y in zip(l1,l2)] # it will add corresponding elements from both the lists\n",
    "print(\"Python list took:\",(time.time()-start)*1000,\"ms\")\n",
    "\n",
    "# numpy array\n",
    "start = time.time()\n",
    "result = a1 + a2 # convinient\n",
    "print(\"NumPy array took:\",(time.time()-start)*1000,\"ms\")"
   ]
  }
 ],
 "metadata": {
  "kernelspec": {
   "display_name": "Python 3",
   "language": "python",
   "name": "python3"
  },
  "language_info": {
   "codemirror_mode": {
    "name": "ipython",
    "version": 3
   },
   "file_extension": ".py",
   "mimetype": "text/x-python",
   "name": "python",
   "nbconvert_exporter": "python",
   "pygments_lexer": "ipython3",
   "version": "3.12.2"
  }
 },
 "nbformat": 4,
 "nbformat_minor": 2
}
